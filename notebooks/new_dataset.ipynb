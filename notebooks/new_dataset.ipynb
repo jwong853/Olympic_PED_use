{
 "cells": [
  {
   "cell_type": "markdown",
   "metadata": {},
   "source": [
    "## EDA / Data Preprocessing\n",
    "This notebook goes over scraping the event results from Olympic.org, it currently only consists of the event results for mens' track events (website server went down while scraping results). \n",
    "This notebook starts by loading in the necessary libraries for exploratory data analysis and for reading in .pdf/.csv files.\n",
    "\n",
    "I then create two lists, holding the names in the athlete dataframe and the names in the Doping dataframe. One complete dataframe is created with an added feature 'flagged' indicating whether or not the athlete has tested positive for PED use.\n",
    "\n",
    "From there, I begin scraping the result tables for the individual track events and merge the results with the complete dataframe by matching names. The rows being dropped are primarily due to the athlete not starting/finishing the race. This may due to an injury, false start, or disqualification for PED use."
   ]
  },
  {
   "cell_type": "code",
   "execution_count": 2713,
   "metadata": {},
   "outputs": [
    {
     "name": "stdout",
     "output_type": "stream",
     "text": [
      "The autoreload extension is already loaded. To reload it, use:\n",
      "  %reload_ext autoreload\n"
     ]
    }
   ],
   "source": [
    "%load_ext autoreload\n",
    "%autoreload 2\n",
    "\n",
    "import os\n",
    "import sys\n",
    "module_path = os.path.abspath(os.path.join(os.pardir, os.pardir))\n",
    "if module_path not in sys.path:\n",
    "    sys.path.append(module_path)"
   ]
  },
  {
   "cell_type": "code",
   "execution_count": 2714,
   "metadata": {},
   "outputs": [],
   "source": [
    "import pandas as pd\n",
    "import numpy as np\n",
    "import pdfplumber\n",
    "import tabula\n",
    "import seaborn as sns\n",
    "from Olympic_PED_use.src import functions as fn\n",
    "import matplotlib.pyplot as plt\n",
    "%matplotlib inline\n",
    "\n",
    "import warnings\n",
    "warnings.filterwarnings('ignore', category=DeprecationWarning)\n",
    "warnings.filterwarnings('ignore', category=FutureWarning)\n",
    "\n",
    "from bs4 import BeautifulSoup\n",
    "import certifi\n",
    "import urllib3\n",
    "import re\n",
    "from csv import DictReader, DictWriter\n",
    "import datetime as dt\n",
    "\n",
    "import glob\n",
    "\n",
    "pd.set_option('display.max_rows', 5000)\n",
    "pd.set_option('display.max_columns', 500)\n",
    "pd.set_option('display.width', 500)"
   ]
  },
  {
   "cell_type": "code",
   "execution_count": 2715,
   "metadata": {},
   "outputs": [
    {
     "name": "stdout",
     "output_type": "stream",
     "text": [
      "finished\n"
     ]
    }
   ],
   "source": [
    "athlete_df = fn.create_athlete_df()"
   ]
  },
  {
   "cell_type": "code",
   "execution_count": 2716,
   "metadata": {},
   "outputs": [
    {
     "data": {
      "text/plain": [
       "4719"
      ]
     },
     "execution_count": 2716,
     "metadata": {},
     "output_type": "execute_result"
    }
   ],
   "source": [
    "athlete_df = athlete_df.drop_duplicates('name')\n",
    "len(athlete_df)"
   ]
  },
  {
   "cell_type": "code",
   "execution_count": 2717,
   "metadata": {},
   "outputs": [],
   "source": [
    "doping_df = fn.create_wiki_doping()"
   ]
  },
  {
   "cell_type": "code",
   "execution_count": 2718,
   "metadata": {},
   "outputs": [],
   "source": [
    "athlete_names = list(athlete_df.name)\n",
    "doping_names = list(doping_df.name)"
   ]
  },
  {
   "cell_type": "code",
   "execution_count": 2719,
   "metadata": {},
   "outputs": [
    {
     "name": "stdout",
     "output_type": "stream",
     "text": [
      "Found 247 matches\n",
      "\n",
      "\n"
     ]
    }
   ],
   "source": [
    "matched = []\n",
    "for x in range(len(doping_names)):\n",
    "    if doping_names[x] in athlete_names:\n",
    "        matched.append(doping_names[x])\n",
    "print('Found {} matches\\n\\n'.format(len(matched)))"
   ]
  },
  {
   "cell_type": "code",
   "execution_count": 2720,
   "metadata": {},
   "outputs": [
    {
     "data": {
      "text/plain": [
       "579"
      ]
     },
     "execution_count": 2720,
     "metadata": {},
     "output_type": "execute_result"
    }
   ],
   "source": [
    "len(doping_names)"
   ]
  },
  {
   "cell_type": "markdown",
   "metadata": {},
   "source": [
    "#### Inserting the 'flagged' column to hold binary values indicating PED use"
   ]
  },
  {
   "cell_type": "code",
   "execution_count": 2721,
   "metadata": {},
   "outputs": [],
   "source": [
    "doping_df.insert(4, 'flagged', 1)"
   ]
  },
  {
   "cell_type": "code",
   "execution_count": 2722,
   "metadata": {},
   "outputs": [],
   "source": [
    "athlete_df = pd.merge(athlete_df, doping_df[['name', 'flagged']], how='left', on='name')"
   ]
  },
  {
   "cell_type": "code",
   "execution_count": 2723,
   "metadata": {},
   "outputs": [
    {
     "data": {
      "text/plain": [
       "0.0    4474\n",
       "1.0     247\n",
       "Name: flagged, dtype: int64"
      ]
     },
     "execution_count": 2723,
     "metadata": {},
     "output_type": "execute_result"
    }
   ],
   "source": [
    "athlete_df.flagged = athlete_df.flagged.fillna(value=0)\n",
    "athlete_df.flagged.value_counts()"
   ]
  },
  {
   "cell_type": "markdown",
   "metadata": {},
   "source": [
    "### Merging Event Results\n",
    "Below I will begin to scrape the results of the men's track events and merge them with the athlete dataframe on matching names."
   ]
  },
  {
   "cell_type": "markdown",
   "metadata": {},
   "source": [
    "#### Scraping the results from the men's 100m dash 2004-Athens"
   ]
  },
  {
   "cell_type": "code",
   "execution_count": 2724,
   "metadata": {},
   "outputs": [],
   "source": [
    "mens_100m_results = []"
   ]
  },
  {
   "cell_type": "code",
   "execution_count": 2725,
   "metadata": {},
   "outputs": [],
   "source": [
    "rio_100m_men = fn.olympic_query('athens', '2004', '100m-men')\n",
    "mens_100m_04 = fn.olympic_scraper(rio_100m_men)\n",
    "mens_100m_04 = fn.content_cleaner(mens_100m_04)\n",
    "mens_100m_04.columns = ['rank', 'name', 'mens_100m_04']\n",
    "mens_100m_04.insert(3, \"event_x\", \"Athletics Men's 100 metres\")\n",
    "mens_100m_04.mens_100m_04 = [str(x) for x in mens_100m_04.mens_100m_04]\n",
    "mens_100m_04.name = [x.strip() for x in mens_100m_04.name]\n",
    "mens_100m_04.mens_100m_04 = [x.strip() for x in mens_100m_04.mens_100m_04]\n",
    "mens_100m_results.append(mens_100m_04.mens_100m_04)"
   ]
  },
  {
   "cell_type": "markdown",
   "metadata": {},
   "source": [
    "#### Merging the results with the athlete dataframe"
   ]
  },
  {
   "cell_type": "code",
   "execution_count": 2727,
   "metadata": {},
   "outputs": [],
   "source": [
    "athlete_df = pd.merge(athlete_df, mens_100m_04[['name', 'mens_100m_04']], how='left', left_on=['name'], right_on='name')"
   ]
  },
  {
   "cell_type": "markdown",
   "metadata": {},
   "source": [
    "#### Scraping the results from the men's 100m dash 2008-Beijing"
   ]
  },
  {
   "cell_type": "code",
   "execution_count": 2728,
   "metadata": {},
   "outputs": [],
   "source": [
    "beijing_100m_men = fn.olympic_query('beijing', '2008', '100m-men')\n",
    "mens_100m_08 = fn.olympic_scraper(beijing_100m_men)\n",
    "mens_100m_08 = fn.content_cleaner(mens_100m_08)\n",
    "mens_100m_08.columns = ['rank', 'name', 'mens_100m_08']\n",
    "mens_100m_08.insert(3, \"event_x\", \"Athletics Men's 100 metres\")\n",
    "mens_100m_08.mens_100m_08 = [str(x) for x in mens_100m_08.mens_100m_08]\n",
    "mens_100m_08.mens_100m_08 = [x.strip() for x in mens_100m_08.mens_100m_08]\n",
    "mens_100m_08.name = [x.strip() for x in mens_100m_08.name]\n",
    "mens_100m_08.mens_100m_08 = [x.strip('DPG /') for x in mens_100m_08.mens_100m_08]\n",
    "mens_100m_results.append(mens_100m_08.mens_100m_08)"
   ]
  },
  {
   "cell_type": "code",
   "execution_count": 2730,
   "metadata": {},
   "outputs": [],
   "source": [
    "athlete_df = pd.merge(athlete_df, mens_100m_08[['name', 'mens_100m_08']], how='left', on='name', suffixes=(None, '_100m_mens_beijing'))"
   ]
  },
  {
   "cell_type": "markdown",
   "metadata": {},
   "source": [
    "#### Scraping the results from the men's 100m dash 2012-London\n",
    "Removing rows with missing values, this is either due to an update on doping sanctions or the athlete did not finish/start the race."
   ]
  },
  {
   "cell_type": "code",
   "execution_count": 2731,
   "metadata": {},
   "outputs": [],
   "source": [
    "london_100m_men = fn.olympic_query('london', '2012', '100m-men')\n",
    "mens_100m_12 = fn.olympic_scraper(london_100m_men)\n",
    "mens_100m_12 = fn.content_cleaner(mens_100m_12)\n",
    "mens_100m_12.columns = ['rank', 'name', 'mens_100m_12']\n",
    "mens_100m_12.insert(3, \"event_x\", \"Athletics Men's 100 metres\")\n",
    "mens_100m_12.mens_100m_12 = [str(x) for x in mens_100m_12.mens_100m_12]\n",
    "mens_100m_12.name = [x.strip() for x in mens_100m_12.name]\n",
    "mens_100m_12.mens_100m_12 = [x.strip() for x in mens_100m_12.mens_100m_12]\n",
    "mens_100m_12 = mens_100m_12.drop([31,86,87])\n",
    "mens_100m_results.append(mens_100m_12.mens_100m_12)"
   ]
  },
  {
   "cell_type": "code",
   "execution_count": 2732,
   "metadata": {},
   "outputs": [],
   "source": [
    "athlete_df = pd.merge(athlete_df, mens_100m_12[['name', 'mens_100m_12']], how='left', on='name', suffixes=(None, '_100m_mens_london'))\n"
   ]
  },
  {
   "cell_type": "markdown",
   "metadata": {},
   "source": [
    "#### Scraping the results from the men's 100m dash 2016-Rio"
   ]
  },
  {
   "cell_type": "code",
   "execution_count": 2733,
   "metadata": {},
   "outputs": [],
   "source": [
    "rio_100m_men = fn.olympic_query('rio', '2016', '100m-men')\n",
    "mens_100m_16 = fn.olympic_scraper(rio_100m_men)\n",
    "mens_100m_16 = fn.content_cleaner(mens_100m_16)\n",
    "mens_100m_16.columns = ['rank', 'name', 'mens_100m_16']\n",
    "mens_100m_16.insert(3, \"event_x\", \"Athletics Men's 100 metres\")\n",
    "mens_100m_16.mens_100m_16 = [str(x) for x in mens_100m_16.mens_100m_16]\n",
    "mens_100m_16.name = [x.strip() for x in mens_100m_16.name]\n",
    "mens_100m_16.mens_100m_16 = [x.strip() for x in mens_100m_16.mens_100m_16]\n",
    "mens_100m_results.append(mens_100m_16.mens_100m_16)"
   ]
  },
  {
   "cell_type": "code",
   "execution_count": 2734,
   "metadata": {},
   "outputs": [],
   "source": [
    "athlete_df = pd.merge(athlete_df, mens_100m_16[['name', 'mens_100m_16']], how='left', on='name', suffixes=(None, '_100m_mens_rio'))"
   ]
  },
  {
   "cell_type": "markdown",
   "metadata": {},
   "source": [
    "#### Scraping the results from the men's 200m dash 2004-Athens"
   ]
  },
  {
   "cell_type": "code",
   "execution_count": 2735,
   "metadata": {},
   "outputs": [],
   "source": [
    "athens_200m_men = fn.olympic_query('athens', '2004', '200m-men')\n",
    "mens_200m_04 = fn.olympic_scraper(athens_200m_men)\n",
    "mens_200m_04 = fn.content_cleaner(mens_200m_04)\n",
    "mens_200m_04.columns = ['rank', 'name', 'mens_200m_04']\n",
    "mens_200m_04.insert(3, \"event_x\", \"Athletics Men's 200 metres\")\n",
    "mens_200m_04.mens_200m_04 = [str(x) for x in mens_200m_04.mens_200m_04]\n",
    "mens_200m_04.mens_200m_04 = [x.strip() for x in mens_200m_04.mens_200m_04]\n",
    "mens_200m_04.name = [x.strip() for x in mens_200m_04.name]\n"
   ]
  },
  {
   "cell_type": "code",
   "execution_count": 2736,
   "metadata": {},
   "outputs": [],
   "source": [
    "athlete_df = pd.merge(athlete_df, mens_200m_04[['name', 'mens_200m_04']], how='left', on='name', suffixes=(None, '_200m_mens_athens'))"
   ]
  },
  {
   "cell_type": "markdown",
   "metadata": {},
   "source": [
    "#### Scraping the results from the men's 200m dash 2008-Beijing\n",
    "droping rows with missing values"
   ]
  },
  {
   "cell_type": "code",
   "execution_count": 2737,
   "metadata": {},
   "outputs": [],
   "source": [
    "beijing_200m_men = fn.olympic_query('beijing', '2008', '200m-men')\n",
    "mens_200m_08 = fn.olympic_scraper(beijing_200m_men)\n",
    "mens_200m_08 = fn.content_cleaner(mens_200m_08)\n",
    "mens_200m_08.columns = ['rank', 'name', 'mens_200m_08']\n",
    "mens_200m_08.insert(3, \"event_x\", \"Athletics Men's 200 metres\")\n",
    "mens_200m_08.mens_200m_08 = [str(x) for x in mens_200m_08.mens_200m_08]\n",
    "mens_200m_08.mens_200m_08 = [x.strip() for x in mens_200m_08.mens_200m_08]\n",
    "mens_200m_08.mens_200m_08 = [x[:5] for x in mens_200m_08.mens_200m_08]\n",
    "mens_200m_08.name = [x.strip() for x in mens_200m_08.name]\n",
    "mens_200m_08 = mens_200m_08.drop([6,7,67,23,39,71,103,166,\n",
    "                                 167,168,169,178,219,227,235])\n"
   ]
  },
  {
   "cell_type": "code",
   "execution_count": 2738,
   "metadata": {},
   "outputs": [],
   "source": [
    "athlete_df = pd.merge(athlete_df, mens_200m_08[['name', 'mens_200m_08']], how='left', on='name', suffixes=(None, '_200m_mens_beijing'))"
   ]
  },
  {
   "cell_type": "markdown",
   "metadata": {},
   "source": [
    "#### Scraping the results from the men's 200m dash 2012-London"
   ]
  },
  {
   "cell_type": "code",
   "execution_count": 2739,
   "metadata": {},
   "outputs": [],
   "source": [
    "london_200m_men = fn.olympic_query('london', '2012', '200m-men')\n",
    "mens_200m_12 = fn.olympic_scraper(london_200m_men)\n",
    "mens_200m_12 = fn.content_cleaner(mens_200m_12)\n",
    "mens_200m_12.columns = ['rank', 'name', 'mens_200m_12']\n",
    "mens_200m_12.insert(3, \"event_x\", \"Athletics Men's 200 metres\")\n",
    "mens_200m_12.mens_200m_12 = [str(x) for x in mens_200m_12.mens_200m_12]\n",
    "mens_200m_12.mens_200m_12 = [x.strip() for x in mens_200m_12.mens_200m_12]\n",
    "mens_200m_12.name = [x.strip() for x in mens_200m_12.name]\n",
    "mens_200m_12 = mens_200m_12.drop([30,31,85,86])\n"
   ]
  },
  {
   "cell_type": "code",
   "execution_count": 2740,
   "metadata": {},
   "outputs": [],
   "source": [
    "athlete_df = pd.merge(athlete_df, mens_200m_12[['name', 'mens_200m_12']], how='left', on='name', suffixes=(None, '_200m_mens_london'))"
   ]
  },
  {
   "cell_type": "markdown",
   "metadata": {},
   "source": [
    "#### Scraping the results from the men's 200m dash 2016-Rio"
   ]
  },
  {
   "cell_type": "code",
   "execution_count": 2741,
   "metadata": {},
   "outputs": [],
   "source": [
    "rio_200m_men = fn.olympic_query('rio', '2016', '200m-men')\n",
    "mens_200m_16 = fn.olympic_scraper(rio_200m_men)\n",
    "mens_200m_16 = fn.content_cleaner(mens_200m_16)\n",
    "mens_200m_16.columns = ['rank', 'name', 'mens_200m_16']\n",
    "mens_200m_16.insert(3, \"event_x\", \"Athletics Men's 200 metres\")\n",
    "mens_200m_16.mens_200m_16 = [str(x) for x in mens_200m_16.mens_200m_16]\n",
    "mens_200m_16.mens_200m_16 = [x.strip() for x in mens_200m_16.mens_200m_16]\n",
    "mens_200m_16.name = [x.strip() for x in mens_200m_16.name]\n"
   ]
  },
  {
   "cell_type": "code",
   "execution_count": 2742,
   "metadata": {},
   "outputs": [],
   "source": [
    "athlete_df = pd.merge(athlete_df, mens_200m_16[['name', 'mens_200m_16']], how='left', on='name', suffixes=(None, '_200m_mens_rio'))"
   ]
  },
  {
   "cell_type": "markdown",
   "metadata": {},
   "source": [
    "#### Scraping the results from the men's 400m dash 2004-Athens"
   ]
  },
  {
   "cell_type": "code",
   "execution_count": 2743,
   "metadata": {},
   "outputs": [],
   "source": [
    "athens_400m_men = fn.olympic_query('athens', '2004', '400m-men')\n",
    "mens_400m_04 = fn.olympic_scraper(athens_400m_men)\n",
    "mens_400m_04 = fn.content_cleaner(mens_400m_04)\n",
    "mens_400m_04.columns = ['rank', 'name', 'mens_400m_04']\n",
    "mens_400m_04.insert(3, \"event_x\", \"Athletics Men's 400 metres\")\n",
    "mens_400m_04.mens_400m_04 = [str(x) for x in mens_400m_04.mens_400m_04]\n",
    "mens_400m_04.mens_400m_04 = [x.strip() for x in mens_400m_04.mens_400m_04]\n",
    "mens_400m_04.name = [x.strip() for x in mens_400m_04.name]\n"
   ]
  },
  {
   "cell_type": "code",
   "execution_count": 2744,
   "metadata": {},
   "outputs": [],
   "source": [
    "athlete_df = pd.merge(athlete_df, mens_400m_04[['name', 'mens_400m_04']], how='left', on='name', suffixes=(None, '_400m_mens_athens'))"
   ]
  },
  {
   "cell_type": "markdown",
   "metadata": {},
   "source": [
    "#### Scraping the results from the men's 400m dash 2008-Beijing\n",
    "dropping rows with missing values"
   ]
  },
  {
   "cell_type": "code",
   "execution_count": 2745,
   "metadata": {},
   "outputs": [],
   "source": [
    "beijing_400m_men = fn.olympic_query('beijing', '2008', '400m-men')\n",
    "mens_400m_08 = fn.olympic_scraper(beijing_400m_men)\n",
    "mens_400m_08 = fn.content_cleaner(mens_400m_08)\n",
    "mens_400m_08.columns = ['rank', 'name', 'mens_400m_08']\n",
    "mens_400m_08.insert(3, \"event_x\", \"Athletics Men's 400 metres\")\n",
    "mens_400m_08.mens_400m_08 = [str(x) for x in mens_400m_08.mens_400m_08]\n",
    "mens_400m_08.mens_400m_08 = [x.strip() for x in mens_400m_08.mens_400m_08]\n",
    "mens_400m_08.mens_400m_08 = [x[:5] for x in mens_400m_08.mens_400m_08]\n",
    "mens_400m_08.name = [x.strip() for x in mens_400m_08.name]\n",
    "mens_400m_08 = mens_400m_08.drop([113,114,122,146])\n"
   ]
  },
  {
   "cell_type": "code",
   "execution_count": 2746,
   "metadata": {},
   "outputs": [],
   "source": [
    "athlete_df = pd.merge(athlete_df, mens_400m_08[['name', 'mens_400m_08']], how='left', on='name', suffixes=(None, '_400m_mens_beijing'))"
   ]
  },
  {
   "cell_type": "markdown",
   "metadata": {},
   "source": [
    "#### Scraping the results from the men's 400m dash 2012-London\n",
    "dropping rows with missing values"
   ]
  },
  {
   "cell_type": "code",
   "execution_count": 2747,
   "metadata": {},
   "outputs": [],
   "source": [
    "london_400m_men = fn.olympic_query('london', '2012', '400m-men')\n",
    "mens_400m_12 = fn.olympic_scraper(london_400m_men)\n",
    "mens_400m_12 = fn.content_cleaner(mens_400m_12)\n",
    "mens_400m_12.columns = ['rank', 'name', 'mens_400m_12']\n",
    "mens_400m_12.insert(3, \"event_x\", \"Athletics Men's 400 metres\")\n",
    "mens_400m_12.mens_400m_12 = [str(x) for x in mens_400m_12.mens_400m_12]\n",
    "mens_400m_12.mens_400m_12 = [x.strip() for x in mens_400m_12.mens_400m_12]\n",
    "mens_400m_12.name = [x.strip() for x in mens_400m_12.name]\n",
    "mens_400m_12 = mens_400m_12.drop([30,78,79,80,81,82])\n"
   ]
  },
  {
   "cell_type": "code",
   "execution_count": 2748,
   "metadata": {},
   "outputs": [],
   "source": [
    "athlete_df = pd.merge(athlete_df, mens_400m_12[['name', 'mens_400m_12']], how='left', on='name', suffixes=(None, '_400m_mens_london'))"
   ]
  },
  {
   "cell_type": "markdown",
   "metadata": {},
   "source": [
    "#### Scraping the results from the men's 400m dash 2016-Rio"
   ]
  },
  {
   "cell_type": "code",
   "execution_count": 2749,
   "metadata": {},
   "outputs": [],
   "source": [
    "rio_400m_men = fn.olympic_query('rio', '2016', '400m-men')\n",
    "mens_400m_16 = fn.olympic_scraper(rio_400m_men)\n",
    "mens_400m_16 = fn.content_cleaner(mens_400m_16)\n",
    "mens_400m_16.columns = ['rank', 'name', 'mens_400m_16']\n",
    "mens_400m_16.insert(3, \"event_x\", \"Athletics Men's 400 metres\")\n",
    "mens_400m_16.mens_400m_16 = [str(x) for x in mens_400m_16.mens_400m_16]\n",
    "mens_400m_16.mens_400m_16 = [x.strip() for x in mens_400m_16.mens_400m_16]\n",
    "mens_400m_16.name = [x.strip() for x in mens_400m_16.name]\n"
   ]
  },
  {
   "cell_type": "code",
   "execution_count": 2750,
   "metadata": {},
   "outputs": [],
   "source": [
    "athlete_df = pd.merge(athlete_df, mens_400m_16[['name', 'mens_400m_16']], how='left', on='name', suffixes=(None, '_400m_mens_rio'))"
   ]
  },
  {
   "cell_type": "markdown",
   "metadata": {},
   "source": [
    "#### Scraping the results from the men's 800m dash 2004-Athens"
   ]
  },
  {
   "cell_type": "code",
   "execution_count": 2751,
   "metadata": {},
   "outputs": [],
   "source": [
    "athens_800m_men = fn.olympic_query('athens', '2004', '800m-men')\n",
    "mens_800m_04 = fn.olympic_scraper(athens_800m_men)\n",
    "mens_800m_04 = fn.content_cleaner(mens_800m_04)\n",
    "mens_800m_04.columns = ['rank', 'name', 'mens_800m_04']\n",
    "mens_800m_04.insert(3, \"event_x\", \"Athletics Men's 800 metres\")\n",
    "mens_800m_04.mens_800m_04 = [str(x) for x in mens_800m_04.mens_800m_04]\n",
    "mens_800m_04.mens_800m_04 = [x.strip() for x in mens_800m_04.mens_800m_04]\n",
    "mens_800m_04.name = [x.strip() for x in mens_800m_04.name]\n",
    "\n"
   ]
  },
  {
   "cell_type": "code",
   "execution_count": 2752,
   "metadata": {},
   "outputs": [],
   "source": [
    "athlete_df = pd.merge(athlete_df, mens_800m_04[['name', 'mens_800m_04']], how='left', on='name', suffixes=(None, '_800m_mens_athens'))"
   ]
  },
  {
   "cell_type": "markdown",
   "metadata": {},
   "source": [
    "#### Scraping the results from the men's 800m dash 2008-Beijing\n",
    "dropping rows with missing values"
   ]
  },
  {
   "cell_type": "code",
   "execution_count": 2753,
   "metadata": {},
   "outputs": [],
   "source": [
    "beijing_800m_men = fn.olympic_query('beijing', '2008', '800m-men')\n",
    "mens_800m_08 = fn.olympic_scraper(beijing_800m_men)\n",
    "mens_800m_08 = fn.content_cleaner(mens_800m_08)\n",
    "mens_800m_08.columns = ['rank', 'name', 'mens_800m_08']\n",
    "mens_800m_08.insert(3, \"event_x\", \"Athletics Men's 800 metres\")\n",
    "mens_800m_08.mens_800m_08 = [str(x) for x in mens_800m_08.mens_800m_08]\n",
    "mens_800m_08.mens_800m_08 = [x.strip() for x in mens_800m_08.mens_800m_08]\n",
    "mens_800m_08.name = [x.strip() for x in mens_800m_08.name]\n",
    "mens_800m_08 = mens_800m_08.drop([114,115,116,130,138,154])\n"
   ]
  },
  {
   "cell_type": "code",
   "execution_count": 2754,
   "metadata": {},
   "outputs": [],
   "source": [
    "athlete_df = pd.merge(athlete_df, mens_800m_08[['name', 'mens_800m_08']], how='left', on='name', suffixes=(None, '_800m_mens_beijing'))"
   ]
  },
  {
   "cell_type": "markdown",
   "metadata": {},
   "source": [
    "#### Scraping the results from the men's 800m dash 2012-London\n",
    "dropping rows with missing values"
   ]
  },
  {
   "cell_type": "code",
   "execution_count": 2755,
   "metadata": {},
   "outputs": [],
   "source": [
    "london_800m_men = fn.olympic_query('london', '2012', '800m-men')\n",
    "mens_800m_12 = fn.olympic_scraper(london_800m_men)\n",
    "mens_800m_12 = fn.content_cleaner(mens_800m_12)\n",
    "mens_800m_12.columns = ['rank', 'name', 'mens_800m_12']\n",
    "mens_800m_12.insert(3, \"event_x\", \"Athletics Men's 800 metres\")\n",
    "mens_800m_12.mens_800m_12 = [str(x) for x in mens_800m_12.mens_800m_12]\n",
    "mens_800m_12.mens_800m_12 = [x.strip() for x in mens_800m_12.mens_800m_12]\n",
    "mens_800m_12.name = [x.strip() for x in mens_800m_12.name]\n",
    "mens_800m_12.mens_800m_12 = [x.strip('/ DPG') for x in mens_800m_12.mens_800m_12]\n",
    "mens_800m_12 = mens_800m_12.drop([32,84,85,86,87])\n"
   ]
  },
  {
   "cell_type": "code",
   "execution_count": 2756,
   "metadata": {},
   "outputs": [],
   "source": [
    "athlete_df = pd.merge(athlete_df, mens_800m_12[['name', 'mens_800m_12']], how='left', on='name', suffixes=(None, '_800m_mens_london'))"
   ]
  },
  {
   "cell_type": "markdown",
   "metadata": {},
   "source": [
    "#### Scraping the results from the men's 800m dash 2016-Rio"
   ]
  },
  {
   "cell_type": "code",
   "execution_count": 2757,
   "metadata": {},
   "outputs": [],
   "source": [
    "rio_800m_men = fn.olympic_query('rio', '2016', '800m-men')\n",
    "mens_800m_16 = fn.olympic_scraper(rio_800m_men)\n",
    "mens_800m_16 = fn.content_cleaner(mens_800m_16)\n",
    "mens_800m_16.columns = ['rank', 'name', 'mens_800m_16']\n",
    "mens_800m_16.insert(3, \"event_x\", \"Athletics Men's 800 metres\")\n",
    "mens_800m_16.mens_800m_16 = [str(x) for x in mens_800m_16.mens_800m_16]\n",
    "mens_800m_16.mens_800m_16 = [x.strip() for x in mens_800m_16.mens_800m_16]\n",
    "mens_800m_16.name = [x.strip() for x in mens_800m_16.name]\n"
   ]
  },
  {
   "cell_type": "code",
   "execution_count": 2758,
   "metadata": {},
   "outputs": [],
   "source": [
    "athlete_df = pd.merge(athlete_df, mens_800m_16[['name', 'mens_800m_16']], how='left', on='name', suffixes=(None, '_800m_mens_rio'))"
   ]
  },
  {
   "cell_type": "markdown",
   "metadata": {},
   "source": [
    "#### Scraping the results from the men's 1500m dash 2004-Athens"
   ]
  },
  {
   "cell_type": "code",
   "execution_count": 2759,
   "metadata": {},
   "outputs": [],
   "source": [
    "athens_1500m_men = fn.olympic_query('athens', '2004', '1500m-men')\n",
    "mens_1500m_04 = fn.olympic_scraper(athens_1500m_men)\n",
    "mens_1500m_04 = fn.content_cleaner(mens_1500m_04)\n",
    "mens_1500m_04.columns = ['rank', 'name', 'mens_1500m_04']\n",
    "mens_1500m_04.insert(3, \"event_x\", \"Athletics Men's 1500 metres\")\n",
    "mens_1500m_04.mens_1500m_04 = [str(x) for x in mens_1500m_04.mens_1500m_04]\n",
    "mens_1500m_04.mens_1500m_04 = [x.strip() for x in mens_1500m_04.mens_1500m_04]\n",
    "mens_1500m_04.name = [x.strip() for x in mens_1500m_04.name]\n",
    "\n"
   ]
  },
  {
   "cell_type": "code",
   "execution_count": 2760,
   "metadata": {},
   "outputs": [],
   "source": [
    "athlete_df = pd.merge(athlete_df, mens_1500m_04[['name', 'mens_1500m_04']], how='left', on='name', suffixes=(None, '_1500m_mens_athens'))"
   ]
  },
  {
   "cell_type": "markdown",
   "metadata": {},
   "source": [
    "#### Scraping the results from the men's 1500m dash 2008-Beijing\n",
    "dropping rows with missing values"
   ]
  },
  {
   "cell_type": "code",
   "execution_count": 2761,
   "metadata": {},
   "outputs": [],
   "source": [
    "beijing_1500m_men = fn.olympic_query('beijing', '2008', '1500m-men')\n",
    "mens_1500m_08 = fn.olympic_scraper(beijing_1500m_men)\n",
    "mens_1500m_08 = fn.content_cleaner(mens_1500m_08)\n",
    "mens_1500m_08.columns = ['rank', 'name', 'mens_1500m_08']\n",
    "mens_1500m_08.insert(3, \"event_x\", \"Athletics Men's 1500 metres\")\n",
    "mens_1500m_08.mens_1500m_08 = [str(x) for x in mens_1500m_08.mens_1500m_08]\n",
    "mens_1500m_08.mens_1500m_08 = [x.strip() for x in mens_1500m_08.mens_1500m_08]\n",
    "mens_1500m_08.name = [x.strip() for x in mens_1500m_08.name]\n",
    "mens_1500m_08.mens_1500m_08 = [x.strip('/ DPG') for x in mens_1500m_08.mens_1500m_08]\n",
    "mens_1500m_08 = mens_1500m_08.drop([107,108,121,134])\n"
   ]
  },
  {
   "cell_type": "code",
   "execution_count": 2762,
   "metadata": {},
   "outputs": [],
   "source": [
    "athlete_df = pd.merge(athlete_df, mens_1500m_08[['name', 'mens_1500m_08']], how='left', on='name', suffixes=(None, '_1500m_mens_beijing'))"
   ]
  },
  {
   "cell_type": "markdown",
   "metadata": {},
   "source": [
    "#### Scraping the results from the men's 1500m dash 2012-London\n",
    "dropping row with missing value"
   ]
  },
  {
   "cell_type": "code",
   "execution_count": 2763,
   "metadata": {},
   "outputs": [],
   "source": [
    "london_1500m_men = fn.olympic_query('london', '2012', '1500m-men')\n",
    "mens_1500m_12 = fn.olympic_scraper(london_1500m_men)\n",
    "mens_1500m_12 = fn.content_cleaner(mens_1500m_12)\n",
    "mens_1500m_12.columns = ['rank', 'name', 'mens_1500m_12']\n",
    "mens_1500m_12.insert(3, \"event_x\", \"Athletics Men's 1500 metres\")\n",
    "mens_1500m_12.mens_1500m_12 = [str(x) for x in mens_1500m_12.mens_1500m_12]\n",
    "mens_1500m_12.mens_1500m_12 = [x.strip() for x in mens_1500m_12.mens_1500m_12]\n",
    "mens_1500m_12.name = [x.strip() for x in mens_1500m_12.name]\n",
    "mens_1500m_12.mens_1500m_12 = [x.strip('/ DPG') for x in mens_1500m_12.mens_1500m_12]\n",
    "mens_1500m_12 = mens_1500m_12.drop([79])\n"
   ]
  },
  {
   "cell_type": "code",
   "execution_count": 2764,
   "metadata": {},
   "outputs": [],
   "source": [
    "athlete_df = pd.merge(athlete_df, mens_1500m_12[['name', 'mens_1500m_12']], how='left', on='name', suffixes=(None, '_1500m_mens_london'))"
   ]
  },
  {
   "cell_type": "markdown",
   "metadata": {},
   "source": [
    "#### Scraping the results from the men's 1500m dash 2016-Rio"
   ]
  },
  {
   "cell_type": "code",
   "execution_count": 2765,
   "metadata": {},
   "outputs": [],
   "source": [
    "rio_1500m_men = fn.olympic_query('rio', '2016', '1500m-men')\n",
    "mens_1500m_16 = fn.olympic_scraper(rio_1500m_men)\n",
    "mens_1500m_16 = fn.content_cleaner(mens_1500m_16)\n",
    "mens_1500m_16.columns = ['rank', 'name', 'mens_1500m_16']\n",
    "mens_1500m_16.insert(3, \"event_x\", \"Athletics Men's 1500 metres\")\n",
    "mens_1500m_16.mens_1500m_16 = [str(x) for x in mens_1500m_16.mens_1500m_16]\n",
    "mens_1500m_16.mens_1500m_16 = [x.strip() for x in mens_1500m_16.mens_1500m_16]\n",
    "mens_1500m_16.name = [x.strip() for x in mens_1500m_16.name]\n"
   ]
  },
  {
   "cell_type": "code",
   "execution_count": 2766,
   "metadata": {},
   "outputs": [],
   "source": [
    "athlete_df = pd.merge(athlete_df, mens_1500m_16[['name', 'mens_1500m_16']], how='left', on='name', suffixes=(None, '_1500m_mens_rio'))"
   ]
  },
  {
   "cell_type": "markdown",
   "metadata": {},
   "source": [
    "#### Scraping the results from the men's 5000m dash 2004-Athens\n",
    "dropping row with missing value"
   ]
  },
  {
   "cell_type": "code",
   "execution_count": 2767,
   "metadata": {},
   "outputs": [],
   "source": [
    "athens_5000m_men = fn.olympic_query('athens', '2004', '5000m-men')\n",
    "mens_5000m_04 = fn.olympic_scraper(athens_5000m_men)\n",
    "mens_5000m_04 = fn.content_cleaner(mens_5000m_04)\n",
    "mens_5000m_04.columns = ['rank', 'name', 'mens_5000m_04']\n",
    "mens_5000m_04.insert(3, \"event_x\", \"Athletics Men's 5000 metres\")\n",
    "mens_5000m_04.mens_5000m_04 = [str(x) for x in mens_5000m_04.mens_5000m_04]\n",
    "mens_5000m_04.mens_5000m_04 = [x.strip() for x in mens_5000m_04.mens_5000m_04]\n",
    "mens_5000m_04.name = [x.strip() for x in mens_5000m_04.name]\n",
    "mens_5000m_04 = mens_5000m_04.drop(35)\n"
   ]
  },
  {
   "cell_type": "code",
   "execution_count": 2768,
   "metadata": {},
   "outputs": [],
   "source": [
    "athlete_df = pd.merge(athlete_df, mens_5000m_04[['name', 'mens_5000m_04']], how='left', on='name', suffixes=(None, '_5000m_mens_athens'))"
   ]
  },
  {
   "cell_type": "markdown",
   "metadata": {},
   "source": [
    "#### Scraping the results from the men's 5000m dash 2008-Beijing\n",
    "dropping rows with missing values"
   ]
  },
  {
   "cell_type": "code",
   "execution_count": 2769,
   "metadata": {},
   "outputs": [],
   "source": [
    "beijing_5000m_men = fn.olympic_query('beijing', '2008', '5000m-men')\n",
    "mens_5000m_08 = fn.olympic_scraper(beijing_5000m_men)\n",
    "mens_5000m_08 = fn.content_cleaner(mens_5000m_08)\n",
    "mens_5000m_08.columns = ['rank', 'name', 'mens_5000m_08']\n",
    "mens_5000m_08.insert(3, \"event_x\", \"Athletics Men's 5000 metres\")\n",
    "mens_5000m_08.mens_5000m_08 = [str(x) for x in mens_5000m_08.mens_5000m_08]\n",
    "mens_5000m_08.mens_5000m_08 = [x.strip() for x in mens_5000m_08.mens_5000m_08]\n",
    "mens_5000m_08.name = [x.strip() for x in mens_5000m_08.name]\n",
    "mens_5000m_08.mens_5000m_08 = [x.strip('/ DPG') for x in mens_5000m_08.mens_5000m_08]\n",
    "mens_5000m_08 = mens_5000m_08.drop([14,54,55,56,57,85,98,99,100])\n"
   ]
  },
  {
   "cell_type": "code",
   "execution_count": 2770,
   "metadata": {},
   "outputs": [],
   "source": [
    "athlete_df = pd.merge(athlete_df, mens_5000m_08[['name', 'mens_5000m_08']], how='left', on='name', suffixes=(None, '_5000m_mens_beijing'))"
   ]
  },
  {
   "cell_type": "markdown",
   "metadata": {},
   "source": [
    "#### Scraping the results from the men's 5000m dash 2012-London\n",
    "dropping row with missing value"
   ]
  },
  {
   "cell_type": "code",
   "execution_count": 2771,
   "metadata": {},
   "outputs": [],
   "source": [
    "london_5000m_men = fn.olympic_query('london', '2012', '5000m-men')\n",
    "mens_5000m_12 = fn.olympic_scraper(london_5000m_men)\n",
    "mens_5000m_12 = fn.content_cleaner(mens_5000m_12)\n",
    "mens_5000m_12.columns = ['rank', 'name', 'mens_5000m_12']\n",
    "mens_5000m_12.insert(3, \"event_x\", \"Athletics Men's 5000 metres\")\n",
    "mens_5000m_12.mens_5000m_12 = [str(x) for x in mens_5000m_12.mens_5000m_12]\n",
    "mens_5000m_12.mens_5000m_12 = [x.strip() for x in mens_5000m_12.mens_5000m_12]\n",
    "mens_5000m_12.name = [x.strip() for x in mens_5000m_12.name]\n",
    "mens_5000m_12.mens_5000m_12 = [x.strip('/ DPG') for x in mens_5000m_12.mens_5000m_12]\n",
    "mens_5000m_12 = mens_5000m_12.drop([56])\n"
   ]
  },
  {
   "cell_type": "code",
   "execution_count": 2772,
   "metadata": {},
   "outputs": [],
   "source": [
    "athlete_df = pd.merge(athlete_df, mens_5000m_12[['name', 'mens_5000m_12']], how='left', on='name', suffixes=(None, '_5000m_mens_london'))"
   ]
  },
  {
   "cell_type": "markdown",
   "metadata": {},
   "source": [
    "#### Scraping the results from the men's 5000m dash 2016-Rio\n",
    "dropping rows with missing values"
   ]
  },
  {
   "cell_type": "code",
   "execution_count": 2773,
   "metadata": {},
   "outputs": [],
   "source": [
    "rio_5000m_men = fn.olympic_query('rio', '2016', '5000m-men')\n",
    "mens_5000m_16 = fn.olympic_scraper(rio_5000m_men)\n",
    "mens_5000m_16 = fn.content_cleaner(mens_5000m_16)\n",
    "mens_5000m_16.columns = ['rank', 'name', 'mens_5000m_16']\n",
    "mens_5000m_16.insert(3, \"event_x\", \"Athletics Men's 5000 metres\")\n",
    "mens_5000m_16.mens_5000m_16 = [str(x) for x in mens_5000m_16.mens_5000m_16]\n",
    "mens_5000m_16.mens_5000m_16 = [x.strip() for x in mens_5000m_16.mens_5000m_16]\n",
    "mens_5000m_16.name = [x.strip() for x in mens_5000m_16.name]\n",
    "mens_5000m_16.mens_5000m_16 = [x.strip('DPG/') for x in mens_5000m_16.mens_5000m_16]\n",
    "mens_5000m_16 = mens_5000m_16.drop([15,66])\n"
   ]
  },
  {
   "cell_type": "code",
   "execution_count": 2774,
   "metadata": {},
   "outputs": [],
   "source": [
    "athlete_df = pd.merge(athlete_df, mens_5000m_16[['name', 'mens_5000m_16']], how='left', on='name', suffixes=(None, '_5000m_mens_rio'))"
   ]
  },
  {
   "cell_type": "markdown",
   "metadata": {},
   "source": [
    "#### Scraping the results from the men's 110m hurdles 2004-Athens\n",
    "dropping row with missing value"
   ]
  },
  {
   "cell_type": "code",
   "execution_count": 2775,
   "metadata": {},
   "outputs": [],
   "source": [
    "athens_110H_men = fn.olympic_query('athens', '2004', '110m-hurdles-men')\n",
    "mens_110H_04 = fn.olympic_scraper(athens_110H_men)\n",
    "mens_110H_04 = fn.content_cleaner(mens_110H_04)\n",
    "mens_110H_04.columns = ['rank', 'name', 'mens_110H_04']\n",
    "mens_110H_04.insert(3, \"event_x\", \"Athletics Men's 110m Hurdles\")\n",
    "mens_110H_04.mens_110H_04 = [str(x) for x in mens_110H_04.mens_110H_04]\n",
    "mens_110H_04.mens_110H_04 = [x.strip() for x in mens_110H_04.mens_110H_04]\n",
    "mens_110H_04.mens_110H_04 = [x.strip('/ DPG') for x in mens_110H_04.mens_110H_04]\n",
    "mens_110H_04.name = [x.strip() for x in mens_110H_04.name]\n",
    "mens_110H_04 = mens_110H_04.drop(15)\n"
   ]
  },
  {
   "cell_type": "code",
   "execution_count": 2776,
   "metadata": {},
   "outputs": [],
   "source": [
    "athlete_df = pd.merge(athlete_df, mens_110H_04[['name', 'mens_110H_04']], how='left', on='name', suffixes=(None, '_110H_mens_athens'))"
   ]
  },
  {
   "cell_type": "markdown",
   "metadata": {},
   "source": [
    "#### Scraping the results from the men's 110m hurdles 2008-Beijing\n",
    "dropping rows with missing values"
   ]
  },
  {
   "cell_type": "code",
   "execution_count": 2777,
   "metadata": {},
   "outputs": [],
   "source": [
    "beijing_110H_men = fn.olympic_query('beijing', '2008', '110m-hurdles-men')\n",
    "mens_110H_08 = fn.olympic_scraper(beijing_110H_men)\n",
    "mens_110H_08 = fn.content_cleaner(mens_110H_08)\n",
    "mens_110H_08.columns = ['rank', 'name', 'mens_110H_08']\n",
    "mens_110H_08.insert(3, \"event_x\", \"Athletics Men's 110m Hurdles\")\n",
    "mens_110H_08.mens_110H_08 = [str(x) for x in mens_110H_08.mens_110H_08]\n",
    "mens_110H_08.mens_110H_08 = [x[:7] for x in mens_110H_08.mens_110H_08]\n",
    "mens_110H_08.mens_110H_08 = [x.strip() for x in mens_110H_08.mens_110H_08]\n",
    "mens_110H_08.mens_110H_08 = [x.strip('/ DPG') for x in mens_110H_08.mens_110H_08]\n",
    "mens_110H_08.name = [x.strip() for x in mens_110H_08.name]\n",
    "mens_110H_08 = mens_110H_08.drop([70,71,95,103,144,\n",
    "                                 145,146,181,182,189])\n"
   ]
  },
  {
   "cell_type": "code",
   "execution_count": 2778,
   "metadata": {},
   "outputs": [],
   "source": [
    "athlete_df = pd.merge(athlete_df, mens_110H_08[['name', 'mens_110H_08']], how='left', on='name', suffixes=(None, '_110H_mens_beijing'))"
   ]
  },
  {
   "cell_type": "markdown",
   "metadata": {},
   "source": [
    "#### Scraping the results from the men's 110m hurdles 2012-London\n",
    "dropping rows with missing values"
   ]
  },
  {
   "cell_type": "code",
   "execution_count": 2779,
   "metadata": {},
   "outputs": [],
   "source": [
    "london_110H_men = fn.olympic_query('london', '2012', '110m-hurdles-men')\n",
    "mens_110H_12 = fn.olympic_scraper(london_110H_men)\n",
    "mens_110H_12 = fn.content_cleaner(mens_110H_12)\n",
    "mens_110H_12.columns = ['rank', 'name', 'mens_110H_12']\n",
    "mens_110H_12.insert(3, \"event_x\", \"Athletics Men's 110m Hurdles\")\n",
    "mens_110H_12.mens_110H_12 = [str(x) for x in mens_110H_12.mens_110H_12]\n",
    "mens_110H_12.mens_110H_12 = [x[:7] for x in mens_110H_12.mens_110H_12]\n",
    "mens_110H_12.mens_110H_12 = [x.strip() for x in mens_110H_12.mens_110H_12]\n",
    "mens_110H_12.mens_110H_12 = [x.strip('/ DPG') for x in mens_110H_12.mens_110H_12]\n",
    "mens_110H_12.name = [x.strip() for x in mens_110H_12.name]\n",
    "mens_110H_12 = mens_110H_12.drop([7,31,32,78,79,80,81,\n",
    "                                 82,83,84,85,86])\n"
   ]
  },
  {
   "cell_type": "code",
   "execution_count": 2780,
   "metadata": {},
   "outputs": [],
   "source": [
    "athlete_df = pd.merge(athlete_df, mens_110H_12[['name', 'mens_110H_12']], how='left', on='name', suffixes=(None, '_110H_mens_london'))"
   ]
  },
  {
   "cell_type": "markdown",
   "metadata": {},
   "source": [
    "#### Scraping the results from the men's 110m hurdles 2016-Rio\n",
    "dropping row with missing value"
   ]
  },
  {
   "cell_type": "code",
   "execution_count": 2781,
   "metadata": {},
   "outputs": [],
   "source": [
    "rio_110H_men = fn.olympic_query('rio', '2016', '110m-hurdles-men')\n",
    "mens_110H_16 = fn.olympic_scraper(rio_110H_men)\n",
    "mens_110H_16 = fn.content_cleaner(mens_110H_16)\n",
    "mens_110H_16.columns = ['rank', 'name', 'mens_110H_16']\n",
    "mens_110H_16.insert(3, \"event_x\", \"Athletics Men's 110m Hurdles\")\n",
    "mens_110H_16.mens_110H_16 = [str(x) for x in mens_110H_16.mens_110H_16]\n",
    "mens_110H_16.mens_110H_16 = [x[:7] for x in mens_110H_16.mens_110H_16]\n",
    "mens_110H_16.mens_110H_16 = [x.strip() for x in mens_110H_16.mens_110H_16]\n",
    "mens_110H_16.mens_110H_16 = [x.strip('/ DPG') for x in mens_110H_16.mens_110H_16]\n",
    "mens_110H_16.name = [x.strip() for x in mens_110H_16.name]\n",
    "mens_110H_16 = mens_110H_16.drop(7)\n"
   ]
  },
  {
   "cell_type": "code",
   "execution_count": 2782,
   "metadata": {},
   "outputs": [],
   "source": [
    "athlete_df = pd.merge(athlete_df, mens_110H_16[['name', 'mens_110H_16']], how='left', on='name', suffixes=(None, '_110H_mens_rio'))"
   ]
  },
  {
   "cell_type": "markdown",
   "metadata": {},
   "source": [
    "#### Scraping the results from the men's 400m hurdles 2004-Athens"
   ]
  },
  {
   "cell_type": "code",
   "execution_count": 2783,
   "metadata": {},
   "outputs": [],
   "source": [
    "athens_400H_men = fn.olympic_query('athens', '2004', '400m-hurdles-men')\n",
    "mens_400H_04 = fn.olympic_scraper(athens_400H_men)\n",
    "mens_400H_04 = fn.content_cleaner(mens_400H_04)\n",
    "mens_400H_04.columns = ['rank', 'name', 'mens_400H_04']\n",
    "mens_400H_04.insert(3, \"event_x\", \"Athletics Men's 400m Hurdles\")\n",
    "mens_400H_04.mens_400H_04 = [str(x) for x in mens_400H_04.mens_400H_04]\n",
    "mens_400H_04.mens_400H_04 = [x.strip() for x in mens_400H_04.mens_400H_04]\n",
    "mens_400H_04.mens_400H_04 = [x.strip('/ DPG') for x in mens_400H_04.mens_400H_04]\n",
    "mens_400H_04.name = [x.strip() for x in mens_400H_04.name]\n"
   ]
  },
  {
   "cell_type": "code",
   "execution_count": 2784,
   "metadata": {},
   "outputs": [],
   "source": [
    "athlete_df = pd.merge(athlete_df, mens_400H_04[['name', 'mens_400H_04']], how='left', on='name', suffixes=(None, '_400H_mens_athens'))"
   ]
  },
  {
   "cell_type": "markdown",
   "metadata": {},
   "source": [
    "#### Scraping the results from the men's 400m hurdles 2008-Beijing\n",
    "dropping rows with missing values"
   ]
  },
  {
   "cell_type": "code",
   "execution_count": 2785,
   "metadata": {},
   "outputs": [],
   "source": [
    "beijing_400H_men = fn.olympic_query('beijing', '2008', '400m-hurdles-men')\n",
    "mens_400H_08 = fn.olympic_scraper(beijing_400H_men)\n",
    "mens_400H_08 = fn.content_cleaner(mens_400H_08)\n",
    "mens_400H_08.columns = ['rank', 'name', 'mens_400H_08']\n",
    "mens_400H_08.insert(3, \"event_x\", \"Athletics Men's 400m Hurdles\")\n",
    "mens_400H_08.mens_400H_08 = [str(x) for x in mens_400H_08.mens_400H_08]\n",
    "mens_400H_08.mens_400H_08 = [x[:7] for x in mens_400H_08.mens_400H_08]\n",
    "mens_400H_08.mens_400H_08 = [x.strip() for x in mens_400H_08.mens_400H_08]\n",
    "mens_400H_08.mens_400H_08 = [x.strip('/ DPG') for x in mens_400H_08.mens_400H_08]\n",
    "mens_400H_08.name = [x.strip() for x in mens_400H_08.name]\n",
    "mens_400H_08 = mens_400H_08.drop([65,91])\n"
   ]
  },
  {
   "cell_type": "code",
   "execution_count": 2786,
   "metadata": {},
   "outputs": [],
   "source": [
    "athlete_df = pd.merge(athlete_df, mens_400H_08[['name', 'mens_400H_08']], how='left', on='name', suffixes=(None, '_400H_mens_beijing'))"
   ]
  },
  {
   "cell_type": "markdown",
   "metadata": {},
   "source": [
    "#### Scraping the results from the men's 400m hurdles 2012-London\n",
    "dropping rows with missing values"
   ]
  },
  {
   "cell_type": "code",
   "execution_count": 2787,
   "metadata": {},
   "outputs": [],
   "source": [
    "london_400H_men = fn.olympic_query('london', '2012', '400m-hurdles-men')\n",
    "mens_400H_12 = fn.olympic_scraper(london_400H_men)\n",
    "mens_400H_12 = fn.content_cleaner(mens_400H_12)\n",
    "mens_400H_12.columns = ['rank', 'name', 'mens_400H_12']\n",
    "mens_400H_12.insert(3, \"event_x\", \"Athletics Men's 400m Hurdles\")\n",
    "mens_400H_12.mens_400H_12 = [str(x) for x in mens_400H_12.mens_400H_12]\n",
    "mens_400H_12.mens_400H_12 = [x[:7] for x in mens_400H_12.mens_400H_12]\n",
    "mens_400H_12.mens_400H_12 = [x.strip() for x in mens_400H_12.mens_400H_12]\n",
    "mens_400H_12.mens_400H_12 = [x.strip('/ DPG') for x in mens_400H_12.mens_400H_12]\n",
    "mens_400H_12.name = [x.strip() for x in mens_400H_12.name]\n",
    "mens_400H_12 = mens_400H_12.drop([30,31,78,79,80,81])\n"
   ]
  },
  {
   "cell_type": "code",
   "execution_count": 2788,
   "metadata": {},
   "outputs": [],
   "source": [
    "athlete_df = pd.merge(athlete_df, mens_400H_12[['name', 'mens_400H_12']], how='left', on='name', suffixes=(None, '_400H_mens_london'))"
   ]
  },
  {
   "cell_type": "markdown",
   "metadata": {},
   "source": [
    "#### Scraping the results from the men's 400m hurdles 2016-Rio\n",
    "dropping row with missing value"
   ]
  },
  {
   "cell_type": "code",
   "execution_count": 2789,
   "metadata": {},
   "outputs": [],
   "source": [
    "rio_400H_men = fn.olympic_query('rio', '2016', '400m-hurdles-men')\n",
    "mens_400H_16 = fn.olympic_scraper(rio_400H_men)\n",
    "mens_400H_16 = fn.content_cleaner(mens_400H_16)\n",
    "mens_400H_16.columns = ['rank', 'name', 'mens_400H_16']\n",
    "mens_400H_16.insert(3, \"event_x\", \"Athletics Men's 400m Hurdles\")\n",
    "mens_400H_16.mens_400H_16 = [str(x) for x in mens_400H_16.mens_400H_16]\n",
    "mens_400H_16.mens_400H_16 = [x[:7] for x in mens_400H_16.mens_400H_16]\n",
    "mens_400H_16.mens_400H_16 = [x.strip() for x in mens_400H_16.mens_400H_16]\n",
    "mens_400H_16.mens_400H_16 = [x.strip('/ DPG') for x in mens_400H_16.mens_400H_16]\n",
    "mens_400H_16.name = [x.strip() for x in mens_400H_16.name]\n",
    "mens_400H_16 = mens_400H_16.drop(7)"
   ]
  },
  {
   "cell_type": "code",
   "execution_count": 2790,
   "metadata": {},
   "outputs": [],
   "source": [
    "athlete_df = pd.merge(athlete_df, mens_400H_16[['name', 'mens_400H_16']], how='left', on='name', suffixes=(None, '_400H_mens_rio'))"
   ]
  },
  {
   "cell_type": "markdown",
   "metadata": {},
   "source": [
    "#### Scraping the results from the men's 10000m run 2004-Athens"
   ]
  },
  {
   "cell_type": "code",
   "execution_count": 2791,
   "metadata": {},
   "outputs": [],
   "source": [
    "athens_10000m_men = fn.olympic_query('athens', '2004', '10000m-men')\n",
    "mens_10000m_04 = fn.olympic_scraper(athens_10000m_men)\n",
    "mens_10000m_04 = fn.content_cleaner(mens_10000m_04)\n",
    "mens_10000m_04.columns = ['rank', 'name', 'mens_10000m_04']\n",
    "mens_10000m_04.insert(3, \"event_x\", \"Athletics Men's 10000 metres\")\n",
    "mens_10000m_04.mens_10000m_04 = [str(x) for x in mens_10000m_04.mens_10000m_04]\n",
    "mens_10000m_04.mens_10000m_04 = [x.strip() for x in mens_10000m_04.mens_10000m_04]\n",
    "mens_10000m_04.name = [x.strip() for x in mens_10000m_04.name]\n"
   ]
  },
  {
   "cell_type": "code",
   "execution_count": 2792,
   "metadata": {},
   "outputs": [],
   "source": [
    "athlete_df = pd.merge(athlete_df, mens_10000m_04[['name', 'mens_10000m_04']], how='left', on='name', suffixes=(None, '_10000m_mens_athens'))"
   ]
  },
  {
   "cell_type": "markdown",
   "metadata": {},
   "source": [
    "#### Scraping the results from the men's 10000m run 2008-Beijing\n",
    "dropping rows with missing values"
   ]
  },
  {
   "cell_type": "code",
   "execution_count": 2793,
   "metadata": {},
   "outputs": [],
   "source": [
    "beijing_10000m_men = fn.olympic_query('beijing', '2008', '10000m-men')\n",
    "mens_10000m_08 = fn.olympic_scraper(beijing_10000m_men)\n",
    "mens_10000m_08 = fn.content_cleaner(mens_10000m_08)\n",
    "mens_10000m_08.columns = ['rank', 'name', 'mens_10000m_08']\n",
    "mens_10000m_08.insert(3, \"event_x\", \"Athletics Men's 10000 metres\")\n",
    "mens_10000m_08.mens_10000m_08 = [str(x) for x in mens_10000m_08.mens_10000m_08]\n",
    "mens_10000m_08.mens_10000m_08 = [x.strip() for x in mens_10000m_08.mens_10000m_08]\n",
    "mens_10000m_08.name = [x.strip() for x in mens_10000m_08.name]\n",
    "mens_10000m_08.mens_10000m_08 = [x.strip('/ DPG') for x in mens_10000m_08.mens_10000m_08]\n",
    "mens_10000m_08 = mens_10000m_08.drop([35,36,37,38])\n"
   ]
  },
  {
   "cell_type": "code",
   "execution_count": 2794,
   "metadata": {},
   "outputs": [],
   "source": [
    "athlete_df = pd.merge(athlete_df, mens_10000m_08[['name', 'mens_10000m_08']], how='left', on='name', suffixes=(None, '_10000m_mens_beijing'))"
   ]
  },
  {
   "cell_type": "markdown",
   "metadata": {},
   "source": [
    "#### Scraping the results from the men's 10000m run 2012-London\n",
    "dropping rows with missing values"
   ]
  },
  {
   "cell_type": "code",
   "execution_count": 2795,
   "metadata": {},
   "outputs": [],
   "source": [
    "london_10000m_men = fn.olympic_query('london', '2012', '10000m-men')\n",
    "mens_10000m_12 = fn.olympic_scraper(london_10000m_men)\n",
    "mens_10000m_12 = fn.content_cleaner(mens_10000m_12)\n",
    "mens_10000m_12.columns = ['rank', 'name', 'mens_10000m_12']\n",
    "mens_10000m_12.insert(3, \"event_x\", \"Athletics Men's 10000 metres\")\n",
    "mens_10000m_12.mens_10000m_12 = [str(x) for x in mens_10000m_12.mens_10000m_12]\n",
    "mens_10000m_12.mens_10000m_12 = [x.strip() for x in mens_10000m_12.mens_10000m_12]\n",
    "mens_10000m_12.name = [x.strip() for x in mens_10000m_12.name]\n",
    "mens_10000m_12 = mens_10000m_12.drop([26,27,28])\n"
   ]
  },
  {
   "cell_type": "code",
   "execution_count": 2796,
   "metadata": {},
   "outputs": [],
   "source": [
    "athlete_df = pd.merge(athlete_df, mens_10000m_12[['name', 'mens_10000m_12']], how='left', on='name', suffixes=(None, '_10000m_mens_london'))"
   ]
  },
  {
   "cell_type": "markdown",
   "metadata": {},
   "source": [
    "#### Scraping the results from the men's 1000m run 2016-Rio\n",
    "dropping rows with missing values"
   ]
  },
  {
   "cell_type": "code",
   "execution_count": 2797,
   "metadata": {},
   "outputs": [],
   "source": [
    "rio_10000m_men = fn.olympic_query('rio', '2016', '10000m-men')\n",
    "mens_10000m_16 = fn.olympic_scraper(rio_10000m_men)\n",
    "mens_10000m_16 = fn.content_cleaner(mens_10000m_16)\n",
    "mens_10000m_16.columns = ['rank', 'name', 'mens_10000m_16']\n",
    "mens_10000m_16.insert(3, \"event_x\", \"Athletics Men's 10000 metres\")\n",
    "mens_10000m_16.mens_10000m_16 = [str(x) for x in mens_10000m_16.mens_10000m_16]\n",
    "mens_10000m_16.mens_10000m_16 = [x.strip() for x in mens_10000m_16.mens_10000m_16]\n",
    "mens_10000m_16.name = [x.strip() for x in mens_10000m_16.name]\n",
    "mens_10000m_16 = mens_10000m_16.drop([32,33])\n"
   ]
  },
  {
   "cell_type": "code",
   "execution_count": 2798,
   "metadata": {},
   "outputs": [],
   "source": [
    "athlete_df = pd.merge(athlete_df, mens_10000m_16[['name', 'mens_10000m_16']], how='left', on='name', suffixes=(None, '_10000m_mens_rio'))"
   ]
  },
  {
   "cell_type": "markdown",
   "metadata": {},
   "source": [
    "#### Scraping the results from the men's 20km walk 2004-Athens\n"
   ]
  },
  {
   "cell_type": "code",
   "execution_count": 2799,
   "metadata": {},
   "outputs": [],
   "source": [
    "athens_mens_20km = fn.olympic_query('athens', '2004', '20km-walk-men')\n",
    "mens_20km = fn.olympic_scraper(athens_mens_20km)\n",
    "mens_20km = fn.content_cleaner(mens_20km)\n",
    "mens_20km.columns = ['rank', 'name', 'mens_20km']\n",
    "mens_20km.insert(3, \"event_x\", \"Athletics Men's 20km walk\")\n",
    "mens_20km.mens_20km = [str(x) for x in mens_20km.mens_20km]\n",
    "mens_20km.mens_20km = [x.strip() for x in mens_20km.mens_20km]\n",
    "mens_20km.mens_20km = [x.strip('/ DPG') for x in mens_20km.mens_20km]\n",
    "mens_20km.mens_20km = [x.replace('h','.')for x in mens_20km.mens_20km]\n",
    "mens_20km.mens_20km = [x.replace(':','.')for x in mens_20km.mens_20km]\n",
    "mens_20km.name = [x.strip() for x in mens_20km.name]\n"
   ]
  },
  {
   "cell_type": "code",
   "execution_count": 2800,
   "metadata": {},
   "outputs": [],
   "source": [
    "athlete_df = pd.merge(athlete_df, mens_20km[['name', 'mens_20km']], how='left', on='name', suffixes=(None, '_20km_mens_athens'))"
   ]
  },
  {
   "cell_type": "markdown",
   "metadata": {},
   "source": [
    "#### Scraping the results from the men's 20km walk 2008-Beijing\n",
    "dropping rows with missing values"
   ]
  },
  {
   "cell_type": "code",
   "execution_count": 2801,
   "metadata": {},
   "outputs": [],
   "source": [
    "beijing_mens_20km = fn.olympic_query('beijing', '2008', '20km-walk-men')\n",
    "mens_20km_08 = fn.olympic_scraper(beijing_mens_20km)\n",
    "mens_20km_08 = fn.content_cleaner(mens_20km_08)\n",
    "mens_20km_08.columns = ['rank', 'name', 'mens_20km_08']\n",
    "mens_20km_08.insert(3, \"event_x\", \"Athletics Men's 20km walk\")\n",
    "mens_20km_08.mens_20km_08 = [str(x) for x in mens_20km_08.mens_20km_08]\n",
    "mens_20km_08.mens_20km_08 = [x.strip() for x in mens_20km_08.mens_20km_08]\n",
    "mens_20km_08.mens_20km_08 = [x.strip('/ DPG') for x in mens_20km_08.mens_20km_08]\n",
    "mens_20km_08.mens_20km_08 = [x.replace('h','.')for x in mens_20km_08.mens_20km_08]\n",
    "mens_20km_08.mens_20km_08 = [x.replace(':','.')for x in mens_20km_08.mens_20km_08]\n",
    "mens_20km_08.name = [x.strip() for x in mens_20km_08.name]\n",
    "mens_20km_08 = mens_20km_08.drop([49,50])\n"
   ]
  },
  {
   "cell_type": "code",
   "execution_count": 2802,
   "metadata": {},
   "outputs": [],
   "source": [
    "athlete_df = pd.merge(athlete_df, mens_20km_08[['name', 'mens_20km_08']], how='left', on='name', suffixes=(None, '_20km_mens_beijing'))"
   ]
  },
  {
   "cell_type": "markdown",
   "metadata": {},
   "source": [
    "#### Scraping the results from the men's 20km walk 2012-London\n",
    "dropping rows with missing values"
   ]
  },
  {
   "cell_type": "code",
   "execution_count": 2803,
   "metadata": {},
   "outputs": [],
   "source": [
    "london_mens_20km = fn.olympic_query('london', '2012', '20km-walk-men')\n",
    "mens_20km_12 = fn.olympic_scraper(london_mens_20km)\n",
    "mens_20km_12 = fn.content_cleaner(mens_20km_12)\n",
    "mens_20km_12.columns = ['rank', 'name', 'mens_20km_12']\n",
    "mens_20km_12.insert(3, \"event_x\", \"Athletics Men's 20km walk\")\n",
    "mens_20km_12.mens_20km_12 = [str(x) for x in mens_20km_12.mens_20km_12]\n",
    "mens_20km_12.mens_20km_12 = [x.strip() for x in mens_20km_12.mens_20km_12]\n",
    "mens_20km_12.mens_20km_12 = [x.strip('/ DPG') for x in mens_20km_12.mens_20km_12]\n",
    "mens_20km_12.mens_20km_12 = [x.replace('h','.')for x in mens_20km_12.mens_20km_12]\n",
    "mens_20km_12.mens_20km_12 = [x.replace(':','.')for x in mens_20km_12.mens_20km_12]\n",
    "mens_20km_12.name = [x.strip() for x in mens_20km_12.name]\n",
    "mens_20km_12 = mens_20km_12.drop([48,49,50,51,52,53,54,55])\n"
   ]
  },
  {
   "cell_type": "code",
   "execution_count": 2804,
   "metadata": {},
   "outputs": [],
   "source": [
    "athlete_df = pd.merge(athlete_df, mens_20km_12[['name', 'mens_20km_12']], how='left', on='name', suffixes=(None, '_20km_mens_london'))"
   ]
  },
  {
   "cell_type": "markdown",
   "metadata": {},
   "source": [
    "#### Scraping the results from the men's 20km walk 2016-Rio\n",
    "dropping rows with missing values"
   ]
  },
  {
   "cell_type": "code",
   "execution_count": 2805,
   "metadata": {},
   "outputs": [],
   "source": [
    "rio_mens_20km = fn.olympic_query('rio', '2016', '20km-walk-men')\n",
    "mens_20km_16 = fn.olympic_scraper(rio_mens_20km)\n",
    "mens_20km_16 = fn.content_cleaner(mens_20km_16)\n",
    "mens_20km_16.columns = ['rank', 'name', 'mens_20km_16']\n",
    "mens_20km_16.insert(3, \"event_x\", \"Athletics Men's 20km walk\")\n",
    "mens_20km_16.mens_20km_16 = [str(x) for x in mens_20km_16.mens_20km_16]\n",
    "mens_20km_16.mens_20km_16 = [x.strip() for x in mens_20km_16.mens_20km_16]\n",
    "mens_20km_16.mens_20km_16 = [x.strip('/ DPG') for x in mens_20km_16.mens_20km_16]\n",
    "mens_20km_16.mens_20km_16 = [x.replace('h','.')for x in mens_20km_16.mens_20km_16]\n",
    "mens_20km_16.mens_20km_16 = [x.replace(':','.')for x in mens_20km_16.mens_20km_16]\n",
    "mens_20km_16.name = [x.strip() for x in mens_20km_16.name]\n",
    "mens_20km_16 = mens_20km_16.drop(range(63,74))\n"
   ]
  },
  {
   "cell_type": "code",
   "execution_count": 2806,
   "metadata": {},
   "outputs": [],
   "source": [
    "athlete_df = pd.merge(athlete_df, mens_20km_16[['name', 'mens_20km_16']], how='left', on='name', suffixes=(None, '_20km_mens_rio'))"
   ]
  },
  {
   "cell_type": "markdown",
   "metadata": {},
   "source": [
    "#### Scraping the results from the men's 50km walk 2004-Athens\n"
   ]
  },
  {
   "cell_type": "code",
   "execution_count": 2807,
   "metadata": {},
   "outputs": [],
   "source": [
    "athens_mens_50km = fn.olympic_query('athens', '2004', '50km-walk-men')\n",
    "mens_50km_04 = fn.olympic_scraper(athens_mens_50km)\n",
    "mens_50km_04 = fn.content_cleaner(mens_50km_04)\n",
    "mens_50km_04.columns = ['rank', 'name', 'mens_50km_04']\n",
    "mens_50km_04.insert(3, \"event_x\", \"Athletics Men's 50km Walk\")\n",
    "mens_50km_04.mens_50km_04 = [str(x) for x in mens_50km_04.mens_50km_04]\n",
    "mens_50km_04.mens_50km_04 = [x.strip() for x in mens_50km_04.mens_50km_04]\n",
    "mens_50km_04.mens_50km_04 = [x.strip('/ DPG') for x in mens_50km_04.mens_50km_04]\n",
    "mens_50km_04.mens_50km_04 = [x.replace('h','.')for x in mens_50km_04.mens_50km_04]\n",
    "mens_50km_04.mens_50km_04 = [x.replace(':','.')for x in mens_50km_04.mens_50km_04]\n",
    "mens_50km_04.name = [x.strip() for x in mens_50km_04.name]\n"
   ]
  },
  {
   "cell_type": "code",
   "execution_count": 2808,
   "metadata": {},
   "outputs": [],
   "source": [
    "athlete_df = pd.merge(athlete_df, mens_50km_04[['name', 'mens_50km_04']], how='left', on='name', suffixes=(None, '_50km_mens_athens'))"
   ]
  },
  {
   "cell_type": "markdown",
   "metadata": {},
   "source": [
    "#### Scraping the results from the men's 50km walk 2008-Beijing\n",
    "dropping rows with missing values"
   ]
  },
  {
   "cell_type": "code",
   "execution_count": 2809,
   "metadata": {},
   "outputs": [],
   "source": [
    "beijing_mens_50km = fn.olympic_query('beijing', '2008', '50km-walk-men')\n",
    "mens_50km_08 = fn.olympic_scraper(beijing_mens_50km)\n",
    "mens_50km_08 = fn.content_cleaner(mens_50km_08)\n",
    "mens_50km_08.columns = ['rank', 'name', 'mens_50km_08']\n",
    "mens_50km_08.insert(3, \"event_x\", \"Athletics Men's 50km walk\")\n",
    "mens_50km_08.mens_50km_08 = [str(x) for x in mens_50km_08.mens_50km_08]\n",
    "mens_50km_08.mens_50km_08 = [x.strip() for x in mens_50km_08.mens_50km_08]\n",
    "mens_50km_08.mens_50km_08 = [x.strip('/ DPG') for x in mens_50km_08.mens_50km_08]\n",
    "mens_50km_08.mens_50km_08 = [x.replace('h','.')for x in mens_50km_08.mens_50km_08]\n",
    "mens_50km_08.mens_50km_08 = [x.replace(':','.')for x in mens_50km_08.mens_50km_08]\n",
    "mens_50km_08.name = [x.strip() for x in mens_50km_08.name]\n",
    "mens_50km_08 = mens_50km_08.drop(range(47,61))\n"
   ]
  },
  {
   "cell_type": "code",
   "execution_count": 2810,
   "metadata": {},
   "outputs": [],
   "source": [
    "athlete_df = pd.merge(athlete_df, mens_50km_08[['name', 'mens_50km_08']], how='left', on='name', suffixes=(None, '_50km_mens_beijing'))"
   ]
  },
  {
   "cell_type": "markdown",
   "metadata": {},
   "source": [
    "#### Scraping the results from the men's 50km walk 2012-London\n",
    "dropping rows with missing values"
   ]
  },
  {
   "cell_type": "code",
   "execution_count": 2811,
   "metadata": {},
   "outputs": [],
   "source": [
    "london_mens_50km = fn.olympic_query('london', '2012', '50km-walk-men')\n",
    "mens_50km_12 = fn.olympic_scraper(london_mens_50km)\n",
    "mens_50km_12 = fn.content_cleaner(mens_50km_12)\n",
    "mens_50km_12.columns = ['rank', 'name', 'mens_50km_12']\n",
    "mens_50km_12.insert(3, \"event_x\", \"Athletics Men's 50km walk\")\n",
    "mens_50km_12.mens_50km_12 = [str(x) for x in mens_50km_12.mens_50km_12]\n",
    "mens_50km_12.mens_50km_12 = [x.strip() for x in mens_50km_12.mens_50km_12]\n",
    "mens_50km_12.mens_50km_12 = [x.strip('/ DPG') for x in mens_50km_12.mens_50km_12]\n",
    "mens_50km_12.mens_50km_12 = [x.replace('h','.')for x in mens_50km_12.mens_50km_12]\n",
    "mens_50km_12.mens_50km_12 = [x.replace(':','.')for x in mens_50km_12.mens_50km_12]\n",
    "mens_50km_12.name = [x.strip() for x in mens_50km_12.name]\n",
    "mens_50km_12 = mens_50km_12.drop(range(48,60))\n"
   ]
  },
  {
   "cell_type": "code",
   "execution_count": 2812,
   "metadata": {},
   "outputs": [],
   "source": [
    "athlete_df = pd.merge(athlete_df, mens_50km_12[['name', 'mens_50km_12']], how='left', on='name', suffixes=(None, '_50km_mens_london'))"
   ]
  },
  {
   "cell_type": "markdown",
   "metadata": {},
   "source": [
    "#### Scraping the results from the men's 50km walk 2016-Rio\n",
    "dropping rows with missing values"
   ]
  },
  {
   "cell_type": "code",
   "execution_count": 2813,
   "metadata": {},
   "outputs": [],
   "source": [
    "rio_mens_50km = fn.olympic_query('rio', '2016', '50km-walk-men')\n",
    "mens_50km_16 = fn.olympic_scraper(rio_mens_50km)\n",
    "mens_50km_16 = fn.content_cleaner(mens_50km_16)\n",
    "mens_50km_16.columns = ['rank', 'name', 'mens_50km_16']\n",
    "mens_50km_16.insert(3, \"event_x\", \"Athletics Men's 50km walk\")\n",
    "mens_50km_16.mens_50km_16 = [str(x) for x in mens_50km_16.mens_50km_16]\n",
    "mens_50km_16.mens_50km_16 = [x.strip() for x in mens_50km_16.mens_50km_16]\n",
    "mens_50km_16.mens_50km_16 = [x.strip('/ DPG') for x in mens_50km_16.mens_50km_16]\n",
    "mens_50km_16.mens_50km_16 = [x.replace('h','.')for x in mens_50km_16.mens_50km_16]\n",
    "mens_50km_16.mens_50km_16 = [x.replace(':','.')for x in mens_50km_16.mens_50km_16]\n",
    "mens_50km_16.name = [x.strip() for x in mens_50km_16.name]\n",
    "mens_50km_16 = mens_50km_16.drop(range(49,80))"
   ]
  },
  {
   "cell_type": "code",
   "execution_count": 2814,
   "metadata": {},
   "outputs": [],
   "source": [
    "athlete_df = pd.merge(athlete_df, mens_50km_16[['name', 'mens_50km_16']], how='left', on='name', suffixes=(None, '_50km_mens_Rio'))"
   ]
  },
  {
   "cell_type": "markdown",
   "metadata": {},
   "source": [
    "#### These are the results that I will use for this model until I can get more results from Olympedia.org. There server is currently down and I do not have the event results for the women."
   ]
  },
  {
   "cell_type": "markdown",
   "metadata": {},
   "source": [
    "# "
   ]
  },
  {
   "cell_type": "markdown",
   "metadata": {},
   "source": [
    "# "
   ]
  },
  {
   "cell_type": "markdown",
   "metadata": {},
   "source": [
    "## Preparing dataframe for modeling"
   ]
  },
  {
   "cell_type": "markdown",
   "metadata": {},
   "source": [
    "#### Removing the duplicate rows from the dataframe, a few athletes appeared in the dataframe more than once due to them competing in more than one event. Since I was matching the event results above on the name column, some athletes got results added twice. I can remove the doubles here since I have used the result times as their own individual columns."
   ]
  },
  {
   "cell_type": "code",
   "execution_count": 2815,
   "metadata": {},
   "outputs": [
    {
     "data": {
      "text/plain": [
       "1204"
      ]
     },
     "execution_count": 2815,
     "metadata": {},
     "output_type": "execute_result"
    }
   ],
   "source": [
    "athlete_df.duplicated().sum()"
   ]
  },
  {
   "cell_type": "code",
   "execution_count": 2816,
   "metadata": {},
   "outputs": [],
   "source": [
    "athlete_df = athlete_df.drop_duplicates()\n",
    "athlete_df = athlete_df.drop_duplicates('name')"
   ]
  },
  {
   "cell_type": "markdown",
   "metadata": {},
   "source": [
    "#### Removing the missing values in the era column so I can convert the values to intetegers."
   ]
  },
  {
   "cell_type": "code",
   "execution_count": 2817,
   "metadata": {},
   "outputs": [
    {
     "data": {
      "text/plain": [
       "Int64Index([627, 628, 2556, 2608, 3833], dtype='int64')"
      ]
     },
     "execution_count": 2817,
     "metadata": {},
     "output_type": "execute_result"
    }
   ],
   "source": [
    "athlete_df[athlete_df['era'] == ''].index"
   ]
  },
  {
   "cell_type": "code",
   "execution_count": 2818,
   "metadata": {},
   "outputs": [],
   "source": [
    "athlete_df = athlete_df.drop([627, 628, 2556, 2608, 3833])"
   ]
  },
  {
   "cell_type": "markdown",
   "metadata": {},
   "source": [
    "#### Setting the era column to be the first year shown in the values. Some athletes have a range while others only have a start year, this could be due to the fact that many of the athletes are still competing. Since we know that these are the athletes that competed in the Summer Olympic Games, we can keep the first year value."
   ]
  },
  {
   "cell_type": "code",
   "execution_count": 2819,
   "metadata": {},
   "outputs": [],
   "source": [
    "athlete_df.era = [x[:4] for x in athlete_df.era]"
   ]
  },
  {
   "cell_type": "markdown",
   "metadata": {},
   "source": [
    "#### Defining the columns that have NA values since the athletes in those rows did not compete in that event, I am going to fill the missing values with 0 for now. I plan on removing the athletes with no results from the dataframe."
   ]
  },
  {
   "cell_type": "markdown",
   "metadata": {},
   "source": [
    "#### Subsetting the dataframe with only the event results. I am going to insert a column that counts the amount of results there are per athlete. If there are no results I will drop the athlete from the dataframe for now. Since I only have the men's results I am expecting to drop a significant amount of rows."
   ]
  },
  {
   "cell_type": "code",
   "execution_count": 2820,
   "metadata": {},
   "outputs": [],
   "source": [
    "cols = list(athlete_df.columns[6:])"
   ]
  },
  {
   "cell_type": "code",
   "execution_count": 2821,
   "metadata": {},
   "outputs": [],
   "source": [
    "results_df = athlete_df[cols]"
   ]
  },
  {
   "cell_type": "code",
   "execution_count": 2822,
   "metadata": {},
   "outputs": [],
   "source": [
    "results_df.insert(44, 'events', 0)"
   ]
  },
  {
   "cell_type": "markdown",
   "metadata": {},
   "source": [
    "The cell below may throw a 'setting with copy' warning but if you run it twice it works. I am counting the values across the columns of the dataframe and subtracting by 1 in order to see which athletes need to be dropped for now."
   ]
  },
  {
   "cell_type": "code",
   "execution_count": 2823,
   "metadata": {},
   "outputs": [
    {
     "name": "stderr",
     "output_type": "stream",
     "text": [
      "/opt/anaconda3/envs/olympic-env/lib/python3.7/site-packages/pandas/core/generic.py:5303: SettingWithCopyWarning: \n",
      "A value is trying to be set on a copy of a slice from a DataFrame.\n",
      "Try using .loc[row_indexer,col_indexer] = value instead\n",
      "\n",
      "See the caveats in the documentation: https://pandas.pydata.org/pandas-docs/stable/user_guide/indexing.html#returning-a-view-versus-a-copy\n",
      "  self[name] = value\n"
     ]
    },
    {
     "data": {
      "text/plain": [
       "0    4105\n",
       "1     477\n",
       "2     102\n",
       "3      24\n",
       "4       4\n",
       "6       1\n",
       "5       1\n",
       "Name: events, dtype: int64"
      ]
     },
     "execution_count": 2823,
     "metadata": {},
     "output_type": "execute_result"
    }
   ],
   "source": [
    "results_df.events = results_df[list(results_df.columns)].count(axis=1)-1\n",
    "results_df.events.value_counts()"
   ]
  },
  {
   "cell_type": "markdown",
   "metadata": {},
   "source": [
    "#### Setting the index of the results_df dataframe with the index of the athlete_df dataframe so I can merge them on the name values"
   ]
  },
  {
   "cell_type": "code",
   "execution_count": 2824,
   "metadata": {},
   "outputs": [],
   "source": [
    "results_df.index = athlete_df.name\n",
    "results_df.reset_index(inplace=True)"
   ]
  },
  {
   "cell_type": "code",
   "execution_count": 2825,
   "metadata": {},
   "outputs": [
    {
     "data": {
      "text/plain": [
       "4714"
      ]
     },
     "execution_count": 2825,
     "metadata": {},
     "output_type": "execute_result"
    }
   ],
   "source": [
    "len(athlete_df)"
   ]
  },
  {
   "cell_type": "code",
   "execution_count": 2826,
   "metadata": {},
   "outputs": [
    {
     "data": {
      "text/plain": [
       "0    4105\n",
       "1     477\n",
       "2     102\n",
       "3      24\n",
       "4       4\n",
       "6       1\n",
       "5       1\n",
       "Name: events, dtype: int64"
      ]
     },
     "execution_count": 2826,
     "metadata": {},
     "output_type": "execute_result"
    }
   ],
   "source": [
    "athlete_df = pd.merge(athlete_df, results_df[['name', 'events']], how='left', on='name')\n",
    "athlete_df.events.value_counts()"
   ]
  },
  {
   "cell_type": "code",
   "execution_count": 2827,
   "metadata": {},
   "outputs": [],
   "source": [
    "for x in athlete_df[cols]:\n",
    "    athlete_df[x] = [str(x) for x in athlete_df[x]]\n",
    "    athlete_df[x] = [x.strip('\\r\\n') for x in athlete_df[x]]\n",
    "    athlete_df[x] = [x.strip() for x in athlete_df[x]]\n"
   ]
  },
  {
   "cell_type": "markdown",
   "metadata": {},
   "source": [
    "#### Defining the events with the format minute:seconds.milliseconds so I can convert the values to seconds. This is done in two for loops since the order of the events has times that aren't in this format between these columns"
   ]
  },
  {
   "cell_type": "code",
   "execution_count": 2828,
   "metadata": {},
   "outputs": [],
   "source": [
    "to_seconds_1 = athlete_df.columns[18:30]"
   ]
  },
  {
   "cell_type": "code",
   "execution_count": 2829,
   "metadata": {},
   "outputs": [],
   "source": [
    "to_seconds_2 = athlete_df.columns[38:50]"
   ]
  },
  {
   "cell_type": "code",
   "execution_count": 2830,
   "metadata": {},
   "outputs": [],
   "source": [
    "for x in athlete_df[to_seconds_1]:\n",
    "    athlete_df[x] = [x.replace('nan', '0.00.00') for x in athlete_df[x]]\n"
   ]
  },
  {
   "cell_type": "code",
   "execution_count": 2831,
   "metadata": {},
   "outputs": [],
   "source": [
    "for x in athlete_df[to_seconds_2]:\n",
    "    athlete_df[x] = [x.replace('nan', '0.00.00') for x in athlete_df[x]]\n"
   ]
  },
  {
   "cell_type": "markdown",
   "metadata": {},
   "source": [
    "#### Converting the times to seconds"
   ]
  },
  {
   "cell_type": "code",
   "execution_count": 2832,
   "metadata": {},
   "outputs": [],
   "source": [
    "val_to_replace = athlete_df.mens_800m_04[325][1]"
   ]
  },
  {
   "cell_type": "code",
   "execution_count": 2833,
   "metadata": {},
   "outputs": [],
   "source": [
    "for x in athlete_df[to_seconds_1]:\n",
    "    athlete_df[x] = [x.replace(val_to_replace, '.') for x in athlete_df[x]]"
   ]
  },
  {
   "cell_type": "code",
   "execution_count": 2834,
   "metadata": {},
   "outputs": [],
   "source": [
    "for x in athlete_df[to_seconds_2]:\n",
    "    athlete_df[x] = [x.replace(val_to_replace, '.') for x in athlete_df[x]]"
   ]
  },
  {
   "cell_type": "code",
   "execution_count": 2835,
   "metadata": {},
   "outputs": [],
   "source": [
    "for x in athlete_df[to_seconds_1]:\n",
    "    athlete_df[x] = [(int(a) * 60 )+ int(b) + (int(c) / 1000) for a,b,c in athlete_df[x].str.split('.')]"
   ]
  },
  {
   "cell_type": "code",
   "execution_count": 2836,
   "metadata": {},
   "outputs": [],
   "source": [
    "for x in athlete_df[to_seconds_2]:\n",
    "    athlete_df[x] = [(int(a) * 60 )+ int(b) + (int(c) / 1000) for a,b,c in athlete_df[x].str.split('.')]"
   ]
  },
  {
   "cell_type": "code",
   "execution_count": 2837,
   "metadata": {},
   "outputs": [
    {
     "data": {
      "text/plain": [
       "4105"
      ]
     },
     "execution_count": 2837,
     "metadata": {},
     "output_type": "execute_result"
    }
   ],
   "source": [
    "len(athlete_df[athlete_df.events == 0])"
   ]
  },
  {
   "cell_type": "markdown",
   "metadata": {},
   "source": [
    "There are 4103 athletes that I do not have results for yet. This is not ideal and may cause poor model performance but I am going to move forward with removing these athletes so the model will have values to train on. This dataframe will not be this small in the next iteration of this project when I can get the results from the women's events as well."
   ]
  },
  {
   "cell_type": "code",
   "execution_count": 2838,
   "metadata": {},
   "outputs": [],
   "source": [
    "athlete_df = athlete_df[athlete_df.events != 0]"
   ]
  },
  {
   "cell_type": "markdown",
   "metadata": {},
   "source": [
    "#### Since the athletes did not compete in the events where there are 'nan' values, I will fill them with 0.00 for now. On the first model iterations I had combined all results into one column but that only had results from the 2004 Games. Having 2004-2016 event results won't allow me to combine them without misrepresenting the data. I plan on feature engineering percentage of speed increase and over heats as well as games on the next iteration."
   ]
  },
  {
   "cell_type": "markdown",
   "metadata": {},
   "source": [
    "I need to convert the remaining event result column values to floats in order to input them into a model"
   ]
  },
  {
   "cell_type": "code",
   "execution_count": 2839,
   "metadata": {},
   "outputs": [],
   "source": [
    "to_float_1 = athlete_df.columns[6:18]"
   ]
  },
  {
   "cell_type": "code",
   "execution_count": 2840,
   "metadata": {},
   "outputs": [],
   "source": [
    "to_float_2 = athlete_df.columns[30:38]"
   ]
  },
  {
   "cell_type": "code",
   "execution_count": 2841,
   "metadata": {},
   "outputs": [],
   "source": [
    "df_copy = athlete_df.copy()"
   ]
  },
  {
   "cell_type": "code",
   "execution_count": 2842,
   "metadata": {},
   "outputs": [],
   "source": [
    "athlete_df = df_copy"
   ]
  },
  {
   "cell_type": "markdown",
   "metadata": {},
   "source": [
    "#### I missed a few NaN values when loading in the event results. Here I am double trying to strip the strings that I found to common in the result tables to see if I can convert the values to floats."
   ]
  },
  {
   "cell_type": "code",
   "execution_count": 2843,
   "metadata": {},
   "outputs": [],
   "source": [
    "for x in athlete_df[to_float_1]:\n",
    "    athlete_df[x] = [x.strip('DPG /') for x in athlete_df[x]]\n",
    "    athlete_df[x] = [x.strip('NF,-') for x in athlete_df[x]]\n",
    "    athlete_df[x] = [x.strip('DNF,-') for x in athlete_df[x]]\n",
    "    athlete_df[x] = [x.strip('DQ,-0') for x in athlete_df[x]]\n",
    "    athlete_df[x] = [x.strip() for x in athlete_df[x]]\n",
    "    athlete_df[x] = [x.replace('nan', '0.0') for x in athlete_df[x]]"
   ]
  },
  {
   "cell_type": "code",
   "execution_count": 2844,
   "metadata": {},
   "outputs": [],
   "source": [
    "for x in athlete_df[to_float_2]:\n",
    "    athlete_df[x] = [x.strip('DPG /') for x in athlete_df[x]]\n",
    "    athlete_df[x] = [x.strip('NF,-') for x in athlete_df[x]]\n",
    "    athlete_df[x] = [x.strip('DNF,-') for x in athlete_df[x]]\n",
    "    athlete_df[x] = [x.strip('DQ,-0') for x in athlete_df[x]]\n",
    "    athlete_df[x] = [x.strip() for x in athlete_df[x]]\n",
    "    athlete_df[x] = [x.replace('nan', '0.00') for x in athlete_df[x]]"
   ]
  },
  {
   "cell_type": "markdown",
   "metadata": {},
   "source": [
    "#### Saving the dataframe as a .csv file for modeling"
   ]
  },
  {
   "cell_type": "code",
   "execution_count": 2846,
   "metadata": {},
   "outputs": [],
   "source": [
    "athlete_df.to_csv('../data/model_df_2.csv', index=False)"
   ]
  }
 ],
 "metadata": {
  "kernelspec": {
   "display_name": "olympic-env",
   "language": "python",
   "name": "olympic_env"
  },
  "language_info": {
   "codemirror_mode": {
    "name": "ipython",
    "version": 3
   },
   "file_extension": ".py",
   "mimetype": "text/x-python",
   "name": "python",
   "nbconvert_exporter": "python",
   "pygments_lexer": "ipython3",
   "version": "3.7.7"
  }
 },
 "nbformat": 4,
 "nbformat_minor": 4
}
